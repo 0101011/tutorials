{
 "cells": [
  {
   "cell_type": "markdown",
   "metadata": {},
   "source": [
    "# Deep Q Learning with PyTorch\n",
    "\n",
    "This tutorial shows how to use PyTorch to train an neural network *agent* that learns to control a cartpole. We use OpenAI's gym environment to simulate this task.\n",
    "\n",
    "### Task\n",
    "\n",
    "The agent has to decide to move a cart left or right, so that the pole attached to it stays upright. Many people have succesfully trained such an agent to do this task. You can find an official leaderboard with various algorithms and visualizations [at the AI Gym website](https://gym.openai.com/envs/CartPole-v0).\n",
    "\n",
    "![cartpole](images/cartpole.gif)\n",
    "\n",
    "This task is designed so that the input are 4 real values representing the environment state (accelerations, etc.).\n",
    "\n",
    "However this seems a bit boring, so we'll use a visual screen patch centered on the cart as an input. Because of this, our results aren't directly comparabe to the ones from an official leaderboard - our task is harder.\n",
    "\n",
    "Because our modified challenge is harder, the training is slower, because we have to render all the frames."
   ]
  },
  {
   "cell_type": "markdown",
   "metadata": {},
   "source": [
    "### Packages\n",
    "\n",
    "First, let's import needed packages. From PyTorch, we'll use:\n",
    "\n",
    "* [automatic differentiation package (`torch.autograd`)](http://pytorch.org/docs/autograd.html)\n",
    "* [neural network package (`torch.nn`)](http://pytorch.org/docs/nn.html)\n",
    "* [optimization package (`torch.optim`)](http://pytorch.org/docs/autograd.html)\n",
    "* [package with utilities for vision tasks (`torchvision`)](https://github.com/pytorch/vision)"
   ]
  },
  {
   "cell_type": "code",
   "execution_count": 8,
   "metadata": {
    "collapsed": false
   },
   "outputs": [
    {
     "name": "stderr",
     "output_type": "stream",
     "text": [
      "INFO:gym.envs.registration:Making new env: CartPole-v0\n",
      "[2017-01-04 22:29:33,699] Making new env: CartPole-v0\n"
     ]
    }
   ],
   "source": [
    "import gym\n",
    "import math\n",
    "import random\n",
    "import numpy as np\n",
    "import matplotlib.pyplot as plt\n",
    "from collections import namedtuple\n",
    "from itertools import count\n",
    "from PIL import Image\n",
    "\n",
    "import torch\n",
    "import torch.nn as nn\n",
    "import torch.optim as optim\n",
    "import torch.autograd as autograd\n",
    "import torch.nn.functional as F\n",
    "import torchvision.transforms as T\n",
    "\n",
    "env = gym.make('CartPole-v0')"
   ]
  },
  {
   "cell_type": "code",
   "execution_count": 9,
   "metadata": {
    "collapsed": true
   },
   "outputs": [],
   "source": [
    "from IPython import display\n",
    "%matplotlib inline"
   ]
  },
  {
   "cell_type": "markdown",
   "metadata": {},
   "source": [
    "### Replay memory\n",
    "\n",
    "We'll be using experience replay for training our DQN Agent. The agent will store it's past experiences in a memory, and replay it's past memory randomly to train itself. This is done so that while training, the samples in a mini-batch are decorrelated. This is a technique that has been shown to greatly stabilize the training of DQN agents.\n",
    "\n",
    "For this, we're going to need two classses:\n",
    "\n",
    "* `Transition` - a named tuple representing a single transition in our environment\n",
    "* `ReplayMemory` - a cyclic buffer of bounded size that holds the transitions observed recently. \n",
    "   * It also implements a `.sample()` method for selecting a random batch of transitions for training."
   ]
  },
  {
   "cell_type": "code",
   "execution_count": 10,
   "metadata": {
    "collapsed": true
   },
   "outputs": [],
   "source": [
    "Transition = namedtuple('Transition', ('state', 'action', 'next_state', 'reward'))\n",
    "\n",
    "class ReplayMemory(object):\n",
    "    \n",
    "    def __init__(self, capacity):\n",
    "        self.capacity = capacity\n",
    "        self.memory = []\n",
    "        self.position = 0\n",
    "        \n",
    "    def push(self, *args):\n",
    "        \"\"\"Saves a transition.\"\"\"\n",
    "        if len(self.memory) < self.capacity:\n",
    "            self.memory.append(None) \n",
    "        self.memory[self.position] = Transition(*args)\n",
    "        self.position = (self.position + 1) % self.capacity\n",
    "        \n",
    "    def sample(self, batch_size):\n",
    "        return random.sample(self.memory, batch_size)\n",
    "    \n",
    "    def __len__(self):\n",
    "        return len(self.memory)"
   ]
  },
  {
   "cell_type": "markdown",
   "metadata": {},
   "source": [
    "Now, let's define our model. But first, let quickly recap Deep-Q Learning\n",
    "\n",
    "### The DQN algorithm\n",
    "\n",
    "*Our world is deterministic, so all equations presented here are also assuming determinism of the process.*\n",
    "\n",
    "Our aim will be to train a policy that tries to maximize the discounted reward \n",
    "\n",
    "> $R_{t_0} = \\sum_{t=t_0}^{\\infty} r_t \\gamma^{t - t_0}$. \n",
    "\n",
    "$\\gamma$ should be a constant between $0$ and $1$. This ensures that the sum converges, and makes the rewards from the uncertain far future be less important for our agent than the ones it can be fairly confident about.\n",
    "\n",
    "The main idea behind Q-learning is that if we had a function $Q^*: State \\times Action \\rightarrow \\mathbb{R}$, that could tell us what would our discounted reward be, if we were to take an action in a given state, we could easily construct a policy that maximizes our rewards:\n",
    "\n",
    "$$\\pi^*(s) = \\mathrm{argmax}_a \\ Q^*(s, a)$$\n",
    "\n",
    "However, we don't know everything about the world, so we don't have access to $Q^*$, but since neural networks are universal function approximators, we can simply create one and train it to resemble the $Q^*$.\n",
    "\n",
    "For our training update rule, we'll use a fact that every $Q$ function for some policy obeys the Bellman equation.\n",
    "\n",
    "$$Q^{\\pi}(s, a) = r + \\gamma Q^{\\pi}(s', \\pi(s'))$$\n",
    "\n",
    "Our loss will be a mean squared error between the two sides of the equality (where $B$ is a batch of transitions):\n",
    "\n",
    "$$L = \\frac{1}{|B|}\\sum_{(s, a, s', r) \\ \\in \\ B} (Q(s, a) - (r + \\gamma \\max_a Q(s', a)))^2$$\n",
    "\n",
    "### Q-network\n",
    "\n",
    "Our model will be a ConvNet that takes in a difference between the current screen patch, and the previous one. This will allow it to take the velocity of the pole into account. \n",
    "\n",
    "It has two outputs representing $Q(s, \\mathrm{left})$ and $Q(s, \\mathrm{right})$ (where $s$ is the input to the network)."
   ]
  },
  {
   "cell_type": "code",
   "execution_count": 11,
   "metadata": {
    "collapsed": true
   },
   "outputs": [],
   "source": [
    "class DQN(nn.Container):\n",
    "    def __init__(self):\n",
    "        super(DQN, self).__init__()\n",
    "        self.conv1 = nn.Conv2d(3, 16, kernel_size=5, stride=2)\n",
    "        self.bn1 = nn.BatchNorm2d(16)\n",
    "        self.conv2 = nn.Conv2d(16, 32, kernel_size=5, stride=2)\n",
    "        self.bn2 = nn.BatchNorm2d(32)\n",
    "        self.conv3 = nn.Conv2d(32, 32, kernel_size=5, stride=2)\n",
    "        self.bn3 = nn.BatchNorm2d(32)\n",
    "        self.head = nn.Linear(288, 2)\n",
    "        \n",
    "    def forward(self, x):\n",
    "        x = F.relu(self.bn1(self.conv1(x)))\n",
    "        x = F.relu(self.bn2(self.conv2(x)))\n",
    "        x = F.relu(self.bn3(self.conv3(x)))\n",
    "        return self.head(x.view(x.size(0), -1))"
   ]
  },
  {
   "cell_type": "markdown",
   "metadata": {},
   "source": [
    "### Input extraction\n",
    "\n",
    "The code below are utilities for extracting and processing rendered images from the env. \n",
    "\n",
    "It uses the `torchvision` package, which makes it easy to compose image transforms. \n",
    "\n",
    "Once you run the cell, it will display an example patch that it extracted."
   ]
  },
  {
   "cell_type": "code",
   "execution_count": 12,
   "metadata": {
    "collapsed": false,
    "scrolled": false
   },
   "outputs": [
    {
     "data": {
      "image/png": "[encoded data removed]",
      "text/plain": [
       "<matplotlib.figure.Figure at 0x112fa0590>"
      ]
     },
     "metadata": {},
     "output_type": "display_data"
    }
   ],
   "source": [
    "resize = T.Compose([T.ToPILImage(), T.Scale(50, interpolation=Image.CUBIC), T.ToTensor()])\n",
    "\n",
    "# This is based on the code from gym.\n",
    "screen_width = 600\n",
    "def get_cart_location():\n",
    "    world_width = env.x_threshold * 2\n",
    "    scale = screen_width / world_width\n",
    "    return int(env.state[0] * scale + screen_width / 2.0) # MIDDLE OF CART\n",
    "    \n",
    "    \n",
    "def get_screen():\n",
    "    screen = env.render(mode='rgb_array').transpose((2, 0, 1)) # transpose into torch order (CHW)\n",
    "    view_width = 160\n",
    "    # Strip off the top and bottom of the screen\n",
    "    screen = screen[:, 160:160+view_width]\n",
    "    cart_location = get_cart_location()\n",
    "    if cart_location < view_width // 2:\n",
    "        slice_range = slice(view_width)\n",
    "    elif cart_location > (screen_width - view_width // 2):\n",
    "        slice_range = slice(-view_width,None)\n",
    "    else:\n",
    "        slice_range = slice(cart_location - view_width // 2, cart_location + view_width // 2)\n",
    "    # Strip off the edges, so that we have a square image centered on a cart\n",
    "    screen = screen[:, :, slice_range]\n",
    "    # Convert to float, rescare, convert to torch tensor (this doesn't require a copy)\n",
    "    screen = np.ascontiguousarray(screen, dtype=np.float32) / 255\n",
    "    screen = torch.from_numpy(screen)\n",
    "    # Resize, and add a batch dimension (BCHW)\n",
    "    return resize(screen).unsqueeze(0)\n",
    "\n",
    "\n",
    "plt.imshow(get_screen().squeeze(0).permute(1, 2, 0).numpy(), interpolation='none')\n",
    "plt.show()"
   ]
  },
  {
   "cell_type": "markdown",
   "metadata": {},
   "source": [
    "### Training hyperparameters and utilities\n",
    "\n",
    "This cell instantiates our model and its optimizer, and defines some utilities:\n",
    "\n",
    "* `Variable` - this is a simple wrapper around `torch.autograd.Variable` that will automatically send the data to the GPU every time we construct a Variable.\n",
    "* `select_action` - will select an action accordingly to an epsilon greedy policy. Simply put, we'll sometimes use our model for choosing the action, and sometimes we'll just sample one uniformly. The probability of choosing a random action will start at `EPS_START` and will decay exponentially towards `EPS_END`. `EPS_DECAY` controls the rate of the decay.\n",
    "* `plot_durations` - a helper for plotting the durations of episodes, along with an average over the last 100 episodes (the measure used in the official evaluations). The plot will be underneath the cell containing the main training loop, and will update after every episode."
   ]
  },
  {
   "cell_type": "code",
   "execution_count": 13,
   "metadata": {
    "collapsed": false
   },
   "outputs": [],
   "source": [
    "BATCH_SIZE = 32\n",
    "GAMMA = 0.97\n",
    "EPS_START = 0.9\n",
    "EPS_END = 0.05\n",
    "EPS_DECAY = 70\n",
    "USE_CUDA = False\n",
    "\n",
    "\n",
    "model = DQN()\n",
    "memory = ReplayMemory(10000)\n",
    "optimizer = optim.Adam(model.parameters())\n",
    "\n",
    "\n",
    "class Variable(autograd.Variable):\n",
    "    def __init__(self, data, *args, **kwargs):\n",
    "        if USE_CUDA:\n",
    "            data = data.cuda()\n",
    "        super(Variable, self).__init__(data, *args, **kwargs)\n",
    "\n",
    "\n",
    "steps_done = 0\n",
    "def select_action(state):\n",
    "    global steps_done\n",
    "    sample = random.random()\n",
    "    eps_threshold = EPS_END + (EPS_START - EPS_END) * math.exp(-1. * steps_done / EPS_DECAY)\n",
    "    steps_done += 1\n",
    "    if sample > eps_threshold:\n",
    "        return model(Variable(state, volatile=True)).data.max(1)[1]\n",
    "    else:\n",
    "        return torch.LongTensor([[random.randrange(2)]])\n",
    "    \n",
    "\n",
    "episode_durations = []\n",
    "def plot_durations():\n",
    "    plt.figure(1)\n",
    "    plt.clf()\n",
    "    durations_t = torch.Tensor(episode_durations)\n",
    "    plt.plot(durations_t.numpy())\n",
    "    # Take 100 episode averages and plot them too\n",
    "    if len(durations_t) >= 100:\n",
    "        means = durations_t.unfold(0, 100, 1).mean(1).view(-1)\n",
    "        means = torch.cat((torch.zeros(99), means))\n",
    "        plt.plot(means.numpy())\n",
    "    display.clear_output(wait=True)\n",
    "    display.display(plt.gcf())"
   ]
  },
  {
   "cell_type": "markdown",
   "metadata": {},
   "source": [
    "### Training loop\n",
    "\n",
    "Finally, the code for training our model.\n",
    "\n",
    "At the top you can find an `optimize_model` function that performs a single step of the optimization. It first samples a batch, concatenates all the tensors into a single one, computes $Q(s_t, a_t)$ and $V(s_{t+1}) = \\max_a Q(s_{t+1}, a)$, and combines them into our loss. There's some complication because of the final states, for which $V(s) = 0$.\n",
    "\n",
    "Below, you can find the main training loop. At the beginning we reset the env and initialize the `state` variable. Then, we sample an action, execute it, observe the next screen and the reward (always 1), and optimize our model once. When the episode ends (our model fails), we restart the loop."
   ]
  },
  {
   "cell_type": "code",
   "execution_count": null,
   "metadata": {
    "collapsed": false
   },
   "outputs": [],
   "source": [
    "def optimize_model():\n",
    "    if len(memory) < BATCH_SIZE:\n",
    "        return\n",
    "    transitions = memory.sample(BATCH_SIZE)\n",
    "    # Transpose the batch (see http://stackoverflow.com/a/19343/3343043 for detailed explanation).\n",
    "    batch = Transition(*zip(*transitions)) \n",
    "\n",
    "    # Compute a mask of non-final states and concatenate the batch elements\n",
    "    non_final_mask = torch.ByteTensor(tuple(map(lambda s: s is not None, batch.next_state)))\n",
    "    non_final_next_states = Variable(torch.cat(tuple(s for s in batch.next_state if s is not None)))\n",
    "    state_batch = Variable(torch.cat(batch.state))\n",
    "    action_batch = Variable(torch.cat(batch.action))\n",
    "    reward_batch = Variable(torch.cat(batch.reward))\n",
    "\n",
    "    # Compute Q(s_t, a) - the model computes Q(s_t), then we select the columns of actions taken\n",
    "    state_action_values = model(state_batch).gather(1, action_batch)\n",
    "\n",
    "    # Compute V(s_{t+1}) for all next states.\n",
    "    next_state_values = Variable(torch.zeros(BATCH_SIZE))\n",
    "    next_state_values[non_final_mask] = model(non_final_next_states).max(1)[0]\n",
    "    next_state_values = next_state_values.detach() # don't send any gradients this way\n",
    "    # Compute the discounted reward estimate\n",
    "    expected_state_action_values = (next_state_values * GAMMA) + reward_batch\n",
    "\n",
    "    # Compute MSE cost\n",
    "    loss = (state_action_values - expected_state_action_values).pow(2).mean()\n",
    "    \n",
    "    # Optimize the model\n",
    "    optimizer.zero_grad()\n",
    "    loss.backward()\n",
    "    optimizer.step()\n",
    "    \n",
    "\n",
    "for i_episode in count():\n",
    "    # Initialize the environment and state\n",
    "    env.reset()\n",
    "    last_screen = get_screen()\n",
    "    current_screen = get_screen()\n",
    "    state = current_screen - last_screen\n",
    "    for t in count():\n",
    "        # Select and perform an action\n",
    "        action = select_action(state)\n",
    "        _, reward, done, _ = env.step(action[0,0])\n",
    "        reward = torch.Tensor([reward])\n",
    "        \n",
    "        # Observe new state\n",
    "        last_screen = current_screen\n",
    "        current_screen = get_screen()\n",
    "        if not done:\n",
    "            next_state = current_screen - last_screen\n",
    "        else:\n",
    "            next_state = None\n",
    "            \n",
    "        # Store the transition in memory\n",
    "        memory.push(state, action, next_state, reward)\n",
    "        \n",
    "        # Move to the next state\n",
    "        state = next_state\n",
    "        \n",
    "        # Perform one step of the optimization\n",
    "        optimize_model()\n",
    "            \n",
    "        if done:\n",
    "            episode_durations.append(t+1)\n",
    "            plot_durations()\n",
    "            break"
   ]
  },
  {
   "cell_type": "code",
   "execution_count": null,
   "metadata": {
    "collapsed": true
   },
   "outputs": [],
   "source": []
  }
 ],
 "metadata": {
  "kernelspec": {
   "display_name": "Python 2",
   "language": "python",
   "name": "python2"
  },
  "language_info": {
   "codemirror_mode": {
    "name": "ipython",
    "version": 2
   },
   "file_extension": ".py",
   "mimetype": "text/x-python",
   "name": "python",
   "nbconvert_exporter": "python",
   "pygments_lexer": "ipython2",
   "version": "2.7.12"
  }
 },
 "nbformat": 4,
 "nbformat_minor": 2
}
