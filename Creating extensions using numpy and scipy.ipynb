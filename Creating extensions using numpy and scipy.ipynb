{
 "cells": [
  {
   "cell_type": "markdown",
   "metadata": {},
   "source": [
    "# Creating extensions using numpy and scipy\n",
    "\n",
    "In this notebook, we shall go through two tasks:\n",
    "\n",
    "1. Create a neural network layer with no parameters. \n",
    "  - This calls into **numpy** as part of it's implementation\n",
    "2. Create a neural network layer that has learnable weights\n",
    "  - This calls into **SciPy** as part of it's implementation"
   ]
  },
  {
   "cell_type": "code",
   "execution_count": 37,
   "metadata": {
    "collapsed": false
   },
   "outputs": [],
   "source": [
    "import torch\n",
    "from torch.autograd import Function\n",
    "from torch.autograd import Variable"
   ]
  },
  {
   "cell_type": "markdown",
   "metadata": {},
   "source": [
    "## Parameter-less example\n",
    "\n",
    "This layer doesn't particularly do anything useful or mathematically correct.\n",
    "\n",
    "It is aptly named BadFFTFunction\n",
    "\n",
    "**Layer Implementation**"
   ]
  },
  {
   "cell_type": "code",
   "execution_count": 38,
   "metadata": {
    "collapsed": false
   },
   "outputs": [],
   "source": [
    "from numpy.fft import rfft2, irfft2\n",
    "class BadFFTFunction(Function):\n",
    "    \n",
    "    def forward(self, input):\n",
    "        numpy_input = input.numpy()\n",
    "        result = abs(rfft2(numpy_input))\n",
    "        return torch.FloatTensor(result)\n",
    "    \n",
    "    def backward(self, grad_output):\n",
    "        numpy_go = grad_output.numpy()\n",
    "        result = irfft2(numpy_go)\n",
    "        return torch.FloatTensor(result)\n",
    "\n",
    "# since this layer does not have any parameters, we can\n",
    "# simply declare this as a function, rather than as an nn.Module class\n",
    "def incorrect_fft(input):\n",
    "    return BadFFTFunction()(input)"
   ]
  },
  {
   "cell_type": "markdown",
   "metadata": {},
   "source": [
    "**Example usage of the created layer:**"
   ]
  },
  {
   "cell_type": "code",
   "execution_count": 39,
   "metadata": {
    "collapsed": false
   },
   "outputs": [
    {
     "name": "stdout",
     "output_type": "stream",
     "text": [
      "\n",
      "  4.7742   8.5149   9.8856  10.2735   8.4410\n",
      "  3.8592   2.2888   5.0019   5.9478   5.1993\n",
      "  4.6596   3.4522   5.9725  11.0878   7.8076\n",
      "  8.2634   6.6598   6.0634  15.5515   6.9418\n",
      "  0.6407   7.4943   0.8726   4.4138   7.1496\n",
      "  8.2634   6.8300   2.8353   8.3108   6.9418\n",
      "  4.6596   1.9511   6.3037   5.1471   7.8076\n",
      "  3.8592   7.3977   7.2260   1.6832   5.1993\n",
      "[torch.FloatTensor of size 8x5]\n",
      "\n",
      "\n",
      " 0.1044  0.0067 -0.0247 -0.0800 -0.1355 -0.0800 -0.0247  0.0067\n",
      "-0.1948 -0.0138 -0.1396 -0.0084  0.0774  0.0370  0.1352  0.1332\n",
      "-0.0153 -0.0668  0.1799  0.0574  0.0394  0.1392  0.0268 -0.1462\n",
      " 0.0199  0.0676 -0.1475 -0.0332  0.1312  0.0740 -0.1128 -0.1948\n",
      "-0.0416 -0.0159 -0.0166 -0.0070  0.1471 -0.0070 -0.0166 -0.0159\n",
      " 0.0199 -0.1948 -0.1128  0.0740  0.1312 -0.0332 -0.1475  0.0676\n",
      "-0.0153 -0.1462  0.0268  0.1392  0.0394  0.0574  0.1799 -0.0668\n",
      "-0.1948  0.1332  0.1352  0.0370  0.0774 -0.0084 -0.1396 -0.0138\n",
      "[torch.FloatTensor of size 8x8]\n",
      "\n"
     ]
    }
   ],
   "source": [
    "input = Variable(torch.randn(8, 8), requires_grad=True)\n",
    "result = incorrect_fft(input)\n",
    "print(result.data)\n",
    "result.backward(torch.randn(result.size()))\n",
    "print(input.grad)"
   ]
  },
  {
   "cell_type": "markdown",
   "metadata": {},
   "source": [
    "## Parametrized example\n",
    "\n",
    "This implements a layer with learnable weights.\n",
    "\n",
    "It implements the Cross-correlation with a learnable kernel.\n",
    "\n",
    "In deep learning literature, it's confusingly referred to as Convolution.\n",
    "\n",
    "The backward computes the gradients wrt the input and gradients wrt the filter.\n",
    "\n",
    "**Implementation:**\n",
    "\n",
    "*Please Note that the implementation serves as an illustration, and we did not verify it's correctness*"
   ]
  },
  {
   "cell_type": "code",
   "execution_count": 40,
   "metadata": {
    "collapsed": false
   },
   "outputs": [],
   "source": [
    "from scipy.signal import convolve2d, correlate2d\n",
    "from torch.nn.modules.module import Module\n",
    "\n",
    "class ScipyConv2dFunction(Function):\n",
    "    \n",
    "    def forward(self, input, filter):\n",
    "        result = correlate2d(input.numpy(), filter.numpy(), mode='valid')\n",
    "        self.save_for_backward(input, filter)\n",
    "        return torch.FloatTensor(result)\n",
    "    \n",
    "    def backward(self, grad_output):\n",
    "        input, filter = self.saved_tensors\n",
    "        grad_input = convolve2d(grad_output.numpy(), filter.t().numpy(), mode='full')\n",
    "        grad_filter = convolve2d(input.numpy(), grad_output.numpy(), mode='valid')\n",
    "        return torch.FloatTensor(grad_input), torch.FloatTensor(grad_filter)\n",
    "\n",
    "\n",
    "class ScipyConv2d(Module):\n",
    "    \n",
    "    def __init__(self, kh, kw):\n",
    "        super(ScipyConv2d, self).__init__(\n",
    "            filter=torch.randn(kh, kw)\n",
    "        )\n",
    "    \n",
    "    def forward(self, input):\n",
    "        return ScipyConv2dFunction()(input, self.filter)"
   ]
  },
  {
   "cell_type": "markdown",
   "metadata": {},
   "source": [
    "**Example usage: **"
   ]
  },
  {
   "cell_type": "code",
   "execution_count": 41,
   "metadata": {
    "collapsed": false
   },
   "outputs": [
    {
     "name": "stdout",
     "output_type": "stream",
     "text": [
      "[Variable containing:\n",
      "-1.0235  0.9875  0.2565\n",
      " 0.1980 -0.6102  0.1088\n",
      "-0.2887  0.4421  0.4697\n",
      "[torch.FloatTensor of size 3x3]\n",
      "]\n",
      "Variable containing:\n",
      " 0.7426 -0.4963  2.1839 -0.0167 -1.6349 -0.7259 -0.2989  0.0568\n",
      "-0.3100  2.2298 -2.2832  0.5753  4.0489  0.1377  0.1672  0.6429\n",
      "-1.8680  1.3115  1.8970  0.3323 -4.5448 -0.0464 -2.3960  1.5496\n",
      "-0.6578  0.6759  0.5512 -0.3498  2.6668  1.3984  1.9388 -1.6464\n",
      "-0.5867  0.5676  2.8697 -0.5566 -2.8876  1.2372 -1.1336 -0.0219\n",
      "-2.1587  1.1444 -0.5513 -0.5551  1.8229  0.6331 -0.0577 -1.4510\n",
      " 2.6664  1.4183  2.1640  0.4424 -0.3112 -2.0792  1.7458 -3.3291\n",
      "-0.4942 -2.1142 -0.2624  0.8993  1.4487  2.1706 -1.4943  0.8073\n",
      "[torch.FloatTensor of size 8x8]\n",
      "\n",
      "\n",
      " 0.2528  0.6793  1.4519  0.8932 -1.6100  0.2802  0.7728 -1.7915  0.6271 -0.4103\n",
      " 1.1033  0.9326 -0.6076  0.0806  2.0530 -1.5469 -0.4001  2.3436 -1.4082  0.6746\n",
      "-2.2699  0.4997 -1.0990 -0.9396 -2.2007 -0.3414 -1.1383  1.5647 -0.8794  0.9267\n",
      "-0.0902 -2.0114  1.1145 -1.1107  0.4190 -0.7028  2.7191 -0.6072  1.3405 -0.2114\n",
      " 3.1340 -1.3749  0.5132  0.1247  1.3468  0.2727 -1.0975  0.5712  0.2452 -1.0394\n",
      "-1.7159  2.4817 -0.0412 -0.9571  0.8877  0.5806  0.1002  0.0128 -0.6611 -0.6181\n",
      "-1.6527 -2.9061 -3.1407  0.1848 -1.4983  0.1549  0.0607 -1.4082  0.7121 -0.5538\n",
      " 0.8319  2.1323 -0.5079 -1.8576 -0.9979 -1.6148 -1.2104 -0.2222 -0.6102  0.1271\n",
      "-0.0115 -0.5239  2.0231  1.3474  0.3604  1.7257 -0.3180  1.3881  0.0142  0.9140\n",
      "-0.0512 -0.3274 -0.1038 -0.1919  0.4578  1.0406  0.5750  1.0693  0.4735  0.4023\n",
      "[torch.FloatTensor of size 10x10]\n",
      "\n"
     ]
    }
   ],
   "source": [
    "module = ScipyConv2d(3, 3)\n",
    "print(list(module.parameters()))\n",
    "input = Variable(torch.randn(10, 10), requires_grad=True)\n",
    "output = module(input)\n",
    "print(output)\n",
    "output.backward(torch.randn(8, 8))\n",
    "print(input.grad)"
   ]
  }
 ],
 "metadata": {
  "kernelspec": {
   "display_name": "Python 2",
   "language": "python",
   "name": "python2"
  },
  "language_info": {
   "codemirror_mode": {
    "name": "ipython",
    "version": 2
   },
   "file_extension": ".py",
   "mimetype": "text/x-python",
   "name": "python",
   "nbconvert_exporter": "python",
   "pygments_lexer": "ipython2",
   "version": "2.7.12"
  }
 },
 "nbformat": 4,
 "nbformat_minor": 1
}
