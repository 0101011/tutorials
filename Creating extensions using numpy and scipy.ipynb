{
 "cells": [
  {
   "cell_type": "code",
   "execution_count": 92,
   "metadata": {
    "collapsed": false
   },
   "outputs": [],
   "source": [
    "import torch\n",
    "from torch.autograd import Function"
   ]
  },
  {
   "cell_type": "markdown",
   "metadata": {},
   "source": [
    "# Parameter-less example"
   ]
  },
  {
   "cell_type": "code",
   "execution_count": 93,
   "metadata": {
    "collapsed": false
   },
   "outputs": [],
   "source": [
    "from numpy.fft import rfft2, irfft2\n",
    "class BadFFTFunction(Function):\n",
    "    \n",
    "    def forward(self, input):\n",
    "        numpy_input = input.numpy()\n",
    "        result = abs(rfft2(numpy_input))\n",
    "        return torch.FloatTensor(result)\n",
    "    \n",
    "    def backward(self, grad_output):\n",
    "        numpy_go = grad_output.numpy()\n",
    "        result = irfft2(numpy_go)\n",
    "        return torch.FloatTensor(result)\n",
    "\n",
    "def incorrect_fft(input):\n",
    "    return FFTFunction()(input)"
   ]
  },
  {
   "cell_type": "code",
   "execution_count": 94,
   "metadata": {
    "collapsed": false
   },
   "outputs": [
    {
     "name": "stdout",
     "output_type": "stream",
     "text": [
      "\n",
      "  3.0878   7.1403   7.5860   1.7596   3.0176\n",
      "  6.3160  15.2517  11.1081   0.9172   6.8577\n",
      "  8.6503   2.2013   6.3555  11.1981   1.9266\n",
      "  3.9919   6.8862   8.8132   5.7938   4.2413\n",
      " 12.2501  10.7839   6.7181  12.1096   1.1942\n",
      "  3.9919   9.3072   2.6704   3.3263   4.2413\n",
      "  8.6503   6.8158  12.4148   2.6462   1.9266\n",
      "  6.3160  15.2663   9.8261   5.8583   6.8577\n",
      "[torch.FloatTensor of size 8x5]\n",
      "\n",
      "\n",
      " 0.0569 -0.3193  0.0401  0.1293  0.0318  0.1293  0.0401 -0.3193\n",
      " 0.0570  0.0161 -0.0421 -0.1272  0.0414  0.0121 -0.0592 -0.0874\n",
      "-0.1144 -0.0146  0.0604 -0.0023  0.0222  0.0622  0.0825 -0.1057\n",
      "-0.0451  0.1061  0.0329 -0.0274  0.0302 -0.0347  0.0227 -0.1079\n",
      " 0.1287  0.1796 -0.0766 -0.0698  0.0929 -0.0698 -0.0766  0.1796\n",
      "-0.0451 -0.1079  0.0227 -0.0347  0.0302 -0.0274  0.0329  0.1061\n",
      "-0.1144 -0.1057  0.0825  0.0622  0.0222 -0.0023  0.0604 -0.0146\n",
      " 0.0570 -0.0874 -0.0592  0.0121  0.0414 -0.1272 -0.0421  0.0161\n",
      "[torch.FloatTensor of size 8x8]\n",
      "\n"
     ]
    }
   ],
   "source": [
    "input = Variable(torch.randn(8, 8), requires_grad=True)\n",
    "result = incorrect_fft(input)\n",
    "print(result.data)\n",
    "result.backward(torch.randn(result.size()))\n",
    "print(input.grad)"
   ]
  },
  {
   "cell_type": "markdown",
   "metadata": {},
   "source": [
    "# Parametrized example"
   ]
  },
  {
   "cell_type": "code",
   "execution_count": 95,
   "metadata": {
    "collapsed": false
   },
   "outputs": [],
   "source": [
    "from scipy.signal import convolve2d, correlate2d\n",
    "from torch.nn.modules.module import Module\n",
    "\n",
    "class ScipyConv2dFunction(Function):\n",
    "    \n",
    "    def forward(self, input, filter):\n",
    "        result = correlate2d(input.numpy(), filter.numpy(), mode='valid')\n",
    "        self.save_for_backward(input, filter)\n",
    "        return torch.FloatTensor(result)\n",
    "    \n",
    "    def backward(self, grad_output):\n",
    "        input, filter = self.saved_tensors\n",
    "        grad_input = convolve2d(grad_output.numpy(), filter.t().numpy(), mode='full')\n",
    "        grad_filter = convolve2d(grad_output.numpy(), input.numpy(), mode='valid')\n",
    "        return torch.FloatTensor(grad_input), torch.FloatTensor(grad_filter)\n",
    "\n",
    "\n",
    "class ScipyConv2d(Module):\n",
    "    \n",
    "    def __init__(self, kh, kw):\n",
    "        super(ScipyConv2d, self).__init__(\n",
    "            filter=torch.randn(kh, kw)\n",
    "        )\n",
    "    \n",
    "    def forward(self, input):\n",
    "        return ScipyConv2dFunction()(input, self.filter)"
   ]
  },
  {
   "cell_type": "code",
   "execution_count": 96,
   "metadata": {
    "collapsed": false
   },
   "outputs": [
    {
     "name": "stdout",
     "output_type": "stream",
     "text": [
      "[Variable containing:\n",
      "-1.5070  1.2195  0.3059\n",
      "-0.9716 -1.6591  0.0582\n",
      " 0.3959  1.4859  0.5762\n",
      "[torch.FloatTensor of size 3x3]\n",
      "]\n",
      "Variable containing:\n",
      "  0.8031  -2.6673  -3.7764   0.3957  -3.7494  -1.7617  -1.0052  -5.8402\n",
      "  1.3038   6.2255   3.8769   2.4016  -1.7805  -3.1314   4.7049  11.2956\n",
      " -3.4491   0.1618  -2.5647   2.3304  -0.2030   0.9072  -3.5095  -1.4599\n",
      "  1.7574   0.6292   0.5140  -0.9045  -0.7373  -1.2061  -2.2977   3.6035\n",
      "  0.4435  -1.0651  -0.5496   0.6387   1.7522   4.5231  -0.5720  -3.3034\n",
      " -0.8580  -0.4809   2.4041   7.1462  -6.4747  -5.3665   2.0541   4.8248\n",
      " -3.3959   0.2333  -0.2029  -2.6130   2.9378   2.5276  -0.8665  -2.6157\n",
      "  4.6814  -5.2214   5.0351   0.9138  -5.0147  -3.1597   1.9054  -1.2458\n",
      "[torch.FloatTensor of size 8x8]\n",
      "\n",
      "\n",
      " 0.1741 -1.9989 -0.2740  3.8120  0.3502  0.6712  3.0274  1.7058  0.4150 -0.3298\n",
      "-1.8919 -2.6355 -3.2564  3.6947  2.5255 -6.7857  0.2239 -1.5672 -0.2663 -1.1211\n",
      " 2.8815  2.5121 -4.7712  3.5822 -4.3752  0.7339 -0.7228 -1.7776 -2.0243  0.5019\n",
      "-0.8926  0.1823 -4.3306  1.6298  1.4614 -1.5850  3.6988  3.1788 -1.2472  1.7891\n",
      "-0.4497  2.5219 -0.0277 -2.5140  8.4283 -2.7177 -0.7160  2.5198  4.2670 -1.8847\n",
      "-2.7016 -4.0250  2.7055 -0.6101  3.5926  0.5576 -1.8934 -3.3632  5.5995 -4.8563\n",
      " 2.6918 -1.4062  1.1848 -1.7458  2.4408  0.9058 -3.6130 -3.0862 -0.1350 -1.6894\n",
      "-0.2913  2.1607  4.0600 -1.4186 -4.5283  3.7960 -5.8559 -0.2632 -1.5944  1.9401\n",
      " 0.4020 -2.5734  2.3380 -0.0078 -3.0894  3.5005 -1.3228  1.2757  0.7101  1.7986\n",
      " 0.1187 -0.4283 -0.0142 -0.5494 -0.2744  0.8786  0.2644  0.7838  0.6230  0.4126\n",
      "[torch.FloatTensor of size 10x10]\n",
      "\n"
     ]
    }
   ],
   "source": [
    "module = ScipyConv2d(3, 3)\n",
    "print(list(module.parameters()))\n",
    "input = Variable(torch.randn(10, 10), requires_grad=True)\n",
    "output = module(input)\n",
    "print(output)\n",
    "output.backward(torch.randn(8, 8))\n",
    "print(input.grad)\n"
   ]
  },
  {
   "cell_type": "code",
   "execution_count": null,
   "metadata": {
    "collapsed": true
   },
   "outputs": [],
   "source": []
  }
 ],
 "metadata": {
  "kernelspec": {
   "display_name": "Python 3",
   "language": "python",
   "name": "python3"
  },
  "language_info": {
   "codemirror_mode": {
    "name": "ipython",
    "version": 3
   },
   "file_extension": ".py",
   "mimetype": "text/x-python",
   "name": "python",
   "nbconvert_exporter": "python",
   "pygments_lexer": "ipython3",
   "version": "3.5.2"
  }
 },
 "nbformat": 4,
 "nbformat_minor": 1
}
